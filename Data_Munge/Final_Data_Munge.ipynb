{
 "cells": [
  {
   "cell_type": "code",
   "execution_count": 1,
   "metadata": {},
   "outputs": [],
   "source": [
    "import pandas as pd"
   ]
  },
  {
   "cell_type": "code",
   "execution_count": 2,
   "metadata": {},
   "outputs": [],
   "source": [
    "country_occurence=pd.read_csv('../Dump_Files/country_occurence.csv')\n",
    "details=pd.read_csv('../Dump_Files/details.csv')\n",
    "images=pd.read_csv('../Dump_Files/images.csv')\n",
    "measures=pd.read_csv('../Dump_Files/measures.csv')\n",
    "threats=pd.read_csv('../Dump_Files/threats.csv')\n",
    "trends=pd.read_csv('../Dump_Files/trends.csv')"
   ]
  },
  {
   "cell_type": "code",
   "execution_count": 3,
   "metadata": {},
   "outputs": [
    {
     "name": "stdout",
     "output_type": "stream",
     "text": [
      "country_occurence  (20746, 4)\n",
      "details  (972, 13)\n",
      "images  (6118, 5)\n",
      "measures  (1159, 4)\n",
      "threats (3890, 4)\n",
      "trends (1604, 4)\n"
     ]
    }
   ],
   "source": [
    "print (\"country_occurence \", country_occurence.shape)\n",
    "print (\"details \", details.shape)\n",
    "print (\"images \", images.shape)\n",
    "print (\"measures \", measures.shape)\n",
    "print (\"threats\", threats.shape)\n",
    "print (\"trends\", trends.shape)"
   ]
  },
  {
   "cell_type": "code",
   "execution_count": 4,
   "metadata": {},
   "outputs": [
    {
     "name": "stderr",
     "output_type": "stream",
     "text": [
      "C:\\Users\\Mariaveronica\\Anaconda3_\\lib\\site-packages\\ipykernel_launcher.py:2: SettingWithCopyWarning: \n",
      "A value is trying to be set on a copy of a slice from a DataFrame\n",
      "\n",
      "See the caveats in the documentation: http://pandas.pydata.org/pandas-docs/stable/indexing.html#indexing-view-versus-copy\n",
      "  \n"
     ]
    }
   ],
   "source": [
    "species_df=country_occurence[['common_name', 'scientific_name', 'category']]\n",
    "species_df.drop_duplicates(subset=['category', 'common_name', 'scientific_name'], keep='first', inplace=True)\n",
    "species_df=species_df.reset_index(drop=True)\n",
    "species_df['species_id']=species_df.index+1\n",
    "species_df\n",
    "\n",
    "\n",
    "categories_df=country_occurence['category'].unique()\n",
    "categories_df=pd.DataFrame(categories_df, columns=['category'])\n",
    "categories_df['category_id']=categories_df.index+1\n",
    "\n",
    "species_df=pd.merge(species_df, categories_df, on='category', how='left')\n",
    "species_df=species_df[['common_name', 'scientific_name', 'species_id', 'category_id']]\n",
    "species_df.to_csv('./Files_for_Load/species_df.csv', index=False)\n",
    "\n",
    "\n",
    "categories_df.to_csv('./Files_for_Load/categories_df.csv', index=False)"
   ]
  },
  {
   "cell_type": "code",
   "execution_count": 5,
   "metadata": {},
   "outputs": [],
   "source": [
    "country_occurence_df=pd.merge(country_occurence, species_df, on=['scientific_name', 'common_name'], how='left')\n",
    "country_occurence_df=country_occurence_df[['countries', 'species_id', 'category_id']]\n",
    "country_occurence_df.reset_index(drop=True)\n",
    "country_occurence_df['id']=country_occurence_df.index+1\n",
    "country_occurence_df.to_csv('./Files_for_Load/country_occurence_df.csv', index=False)"
   ]
  },
  {
   "cell_type": "code",
   "execution_count": 6,
   "metadata": {},
   "outputs": [],
   "source": [
    "details_df=pd.merge(details, species_df, on=['scientific_name', 'common_name'], how='left')\n",
    "details_df=details_df.drop(columns=['common_name', 'scientific_name', 'category'])\n",
    "details_df.reset_index(drop=True)\n",
    "details_df['detail_id']=details_df.index+1\n",
    "details_df.to_csv('./Files_for_Load/details_df.csv', index=False)"
   ]
  },
  {
   "cell_type": "code",
   "execution_count": 7,
   "metadata": {},
   "outputs": [],
   "source": [
    "images_df=pd.merge(species_df, images, on='common_name', how='left')\n",
    "images_df=images_df[['species_id', 'category_id', 'images']]\n",
    "images_df.reset_index(drop=True)\n",
    "images_df['image_id']=images_df.index+1\n",
    "images_df.to_csv('./Files_for_Load/images_df.csv', index=False)"
   ]
  },
  {
   "cell_type": "code",
   "execution_count": 8,
   "metadata": {},
   "outputs": [],
   "source": [
    "measures_df=pd.merge(measures, species_df, on=['common_name', 'scientific_name'], how='left')\n",
    "measures_df=measures_df[['species_id', 'category_id', 'measures']]\n",
    "measures_df.reset_index(drop=True)\n",
    "measures_df['measure_id']=measures_df.index+1\n",
    "measures_df.to_csv('./Files_for_Load/measures_df.csv', index=False)"
   ]
  },
  {
   "cell_type": "code",
   "execution_count": 9,
   "metadata": {},
   "outputs": [],
   "source": [
    "threats_df=pd.merge(threats, species_df, on=['common_name', 'scientific_name'], how='left')\n",
    "threats_df=threats_df[['threats', 'species_id', 'category_id']]\n",
    "threats_df.reset_index(drop=True)\n",
    "threats_df['threat_id']=threats_df.index+1\n",
    "threats_df.to_csv('./Files_for_Load/threats_df.csv', index=False)"
   ]
  },
  {
   "cell_type": "code",
   "execution_count": 10,
   "metadata": {},
   "outputs": [],
   "source": [
    "trends_df=pd.merge(trends, species_df, on=['common_name', 'scientific_name'], how='left')\n",
    "trends_df=trends_df[['year', 'status', 'species_id', 'category_id']]\n",
    "trends_df.reset_index(drop=True)\n",
    "trends_df['trend_id']=trends_df.index+1\n",
    "trends_df.to_csv('./Files_for_Load/trends_df.csv', index=False)"
   ]
  },
  {
   "cell_type": "code",
   "execution_count": null,
   "metadata": {},
   "outputs": [],
   "source": []
  }
 ],
 "metadata": {
  "kernelspec": {
   "display_name": "Python 3",
   "language": "python",
   "name": "python3"
  },
  "language_info": {
   "codemirror_mode": {
    "name": "ipython",
    "version": 3
   },
   "file_extension": ".py",
   "mimetype": "text/x-python",
   "name": "python",
   "nbconvert_exporter": "python",
   "pygments_lexer": "ipython3",
   "version": "3.6.8"
  }
 },
 "nbformat": 4,
 "nbformat_minor": 2
}
